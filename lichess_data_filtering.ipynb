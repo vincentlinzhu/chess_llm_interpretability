{
 "cells": [
  {
   "cell_type": "code",
   "execution_count": 1,
   "metadata": {},
   "outputs": [
    {
     "name": "stderr",
     "output_type": "stream",
     "text": [
      "/opt/conda/envs/py311/lib/python3.11/site-packages/tqdm/auto.py:21: TqdmWarning: IProgress not found. Please update jupyter and ipywidgets. See https://ipywidgets.readthedocs.io/en/stable/user_install.html\n",
      "  from .autonotebook import tqdm as notebook_tqdm\n"
     ]
    }
   ],
   "source": [
    "import pandas as pd\n",
    "from datasets import load_dataset\n",
    "import os"
   ]
  },
  {
   "cell_type": "markdown",
   "metadata": {},
   "source": [
    "Our data begins as a bunch of PGN transcripts. However, to work in tensors we need all transcripts to be the same length. So, this file takes our PGNs and performs some filtering.\n",
    "\n",
    "This notebook has a very similar counterpart, `utils\\chess_gpt_eval_data_filtering.ipynb`. The lichess and chess_gpt_eval datasets have a different structure and different column names. For most peoples' needs, the lichess dataset alone should suffice, so I made two separate notebooks to keep this one simple.\n",
    "\n",
    "The output of this file is 4 different csv's:\n",
    "\n",
    "`lichess_100mb.csv`\" 100 MB of lichess PGN games, with every game also containing player Elo information.\n",
    "\n",
    "`lichess_100mb_filtered.csv`: We perform some filtering for game length, add player Elo bucket, and do some manipulation of the PGN string.\n",
    "\n",
    "`lichess_train.csv` and `lichess_test.csv` a 50 / 50 train / test split of `lichess_100mb_filtered.csv`, used for training and testing linear probes."
   ]
  },
  {
   "cell_type": "code",
   "execution_count": null,
   "metadata": {},
   "outputs": [],
   "source": []
  },
  {
   "cell_type": "code",
   "execution_count": 2,
   "metadata": {},
   "outputs": [],
   "source": [
    "DATA_DIR = \"data/\"\n",
    "prefix = \"lichess_\"\n",
    "\n",
    "\n",
    "input_file = f'{DATA_DIR}{prefix}100mb.csv'\n",
    "output_file = input_file.replace(\".csv\", \"_filtered.csv\")"
   ]
  },
  {
   "cell_type": "markdown",
   "metadata": {},
   "source": [
    "First, we download the dataset if not present."
   ]
  },
  {
   "cell_type": "code",
   "execution_count": 3,
   "metadata": {},
   "outputs": [
    {
     "name": "stderr",
     "output_type": "stream",
     "text": [
      "Repo card metadata block was not found. Setting CardData to empty.\n"
     ]
    }
   ],
   "source": [
    "if not os.path.exists(input_file):\n",
    "    dataset_path = \"adamkarvonen/chess_games\"\n",
    "    file_path = f\"{prefix}100mb.zip\"\n",
    "    # No idea why streaming=True is required to avoid an error here. Huggingface ¯\\_(ツ)_/¯\n",
    "    dataset = load_dataset(dataset_path, data_files=file_path,streaming=True)\n",
    "    df = pd.DataFrame(dataset['train'])\n",
    "    df.to_csv(input_file, index=False)"
   ]
  },
  {
   "cell_type": "markdown",
   "metadata": {},
   "source": [
    "Our LLMs need a delimiter token \";\" at the beginning of every PGN string or it won't work as well."
   ]
  },
  {
   "cell_type": "code",
   "execution_count": 4,
   "metadata": {},
   "outputs": [
    {
     "name": "stdout",
     "output_type": "stream",
     "text": [
      ";1.d4 e6 2.c4 Nf6 3.Nc3 Bb4 4.Bg5 h6 5.Bxf6 Qxf6 6.Nf3 O-O 7.e4 Bxc3+ 8.bxc3 d6 9.Bd3 e5 10.h3 c5 11.d5 b6 12.Nh2 Qe7 13.O-O Nd7 14.f4 exf4 15.Rxf4 Ne5 16.Bf1 Ba6 17.Ng4 f6 18.Qe1 Bc8 19.Qg3 Bxg4 20.hxg4 Rf7 21.Be2 Qd7 22.Raf1 Qa4 23.g5 hxg5 24.Rf5 Qxa2 25.Bh5 Rff8 26.Qh3 Qxc4 27.Rxe5 fxe5 28.Qe6+ Kh8 29.Bf7 Qd3 30.Rf3 Qxf3 31.gxf3 g6 32.Qf6+ Kh7 33.Qxg6+ Kh8 34.Qh6#\n",
      "\n",
      ";1.e4 e5 2.Nf3 f6 3.d4 a5 4.dxe5 fxe5 5.Bc4 Nc6 6.Nc3 a4 7.Ng5 Na5 8.Qh5+ g6 9.Bf7+ Ke7 10.Nd5+ Kd6 11.b3 gxh5 12.Ba3+ Kc6 13.Nb4+ Kc5 14.O-O-O Kb5 15.Rd5+ Kb6 16.c4 Qxg5+ 17.Kb1 Qxg2 18.Rb5+ Ka7 19.Rb6 cxb6 20.Rc1 Qxe4+ 21.Ka1 Qd4+\n",
      "\n",
      ";1.d4 Nf6 2.Nf3 e6 3.Nbd2 d5 4.e3 Be7 5.Bd3 O-O 6.O-O h6 7.c3 b6 8.e4 Bb7 9.e5 Nfd7 10.Re1 c5 11.Nf1 c4 12.Bc2 f6 13.Ng3 fxe5 14.Nxe5 Nxe5 15.Rxe5 Qd6 16.Qg4 Kh8 17.Nh5 Rf7 18.Qg6 Kg8 19.Bxh6 Nd7 20.Qh7+ Kf8 21.Qh8#\n",
      "\n",
      ";1.e4 e5 2.Nf3 Nc6 3.Bb5 f5 4.d3 Nf6 5.O-O d6 6.Bg5 Be7 7.Nc3 O-O 8.Bxf6 Bxf6 9.Nd5 Ne7 10.Bc4 Kh8 11.Nxe7 Qxe7 12.Re1 fxe4 13.dxe4 Bd7 14.h3 Bg5 15.Nxg5 Qxg5 16.Re3 Rf4 17.Rg3 Qf6 18.Qe2 Rf8 19.f3 Qh4 20.Qf2 Rxe4 21.Re1 Rxc4 22.b3 Rxc2\n",
      "\n",
      ";1.e4 c6 2.d4 d5 3.Nd2 dxe4 4.Nxe4 Nf6 5.Nxf6+ gxf6 6.f4 Bf5 7.Nf3 e6 8.Bd3 Bg6 9.Be3 Nd7 10.Qe2 Bd6 11.f5 Bh5 12.fxe6 fxe6 13.O-O-O Qe7 14.h3 O-O-O 15.g4 Bg6 16.Nh4 Bxd3 17.Qxd3 Nb6 18.Rhe1 Nd5 19.Bf2 Rhe8 20.c4 Nf4 21.Qf3 e5 22.Nf5 Qc7 23.Nxd6+ Qxd6 24.dxe5 Nd3+ 25.Kb1 Nxe5 26.Rxd6 Nxf3 27.Rxd8+ Rxd8 28.Re7 Nd2+ 29.Kc2 Nxc4 30.Bg3 b5 31.Rc7+ Kb8 32.Rd7+ Kc8 33.Rc7+ Kb8 34.Rd7+ Kc8 35.Rc7+\n",
      "\n"
     ]
    },
    {
     "name": "stderr",
     "output_type": "stream",
     "text": [
      "/tmp/ipykernel_413982/1812804111.py:1: DtypeWarning: Columns (1) have mixed types. Specify dtype option on import or set low_memory=False.\n",
      "  df = pd.read_csv(input_file)\n"
     ]
    }
   ],
   "source": [
    "df = pd.read_csv(input_file)\n",
    "\n",
    "def format_transcript(game: str) -> str:\n",
    "    new_game = ';' + game\n",
    "    return new_game\n",
    "\n",
    "df['transcript'] = df['transcript'].apply(format_transcript)\n",
    "\n",
    "for game in df.head()['transcript']:\n",
    "    print(game)\n",
    "    print()"
   ]
  },
  {
   "cell_type": "markdown",
   "metadata": {},
   "source": [
    "Filter all games to be len 365. This means we discard anything under that length. I chose 365 because that's the 50% of df.describe(). I also count the number of moves (with x.split()) and discard anything below the 25th percentile. This makes it easier if I want to do any move based indexing."
   ]
  },
  {
   "cell_type": "code",
   "execution_count": 5,
   "metadata": {},
   "outputs": [
    {
     "name": "stdout",
     "output_type": "stream",
     "text": [
      "count    291345.000000\n",
      "mean        390.737998\n",
      "std         158.994060\n",
      "min         137.000000\n",
      "25%         273.000000\n",
      "50%         364.000000\n",
      "75%         483.000000\n",
      "max        2077.000000\n",
      "Name: transcript, dtype: float64\n",
      "count    145249.0\n",
      "mean        365.0\n",
      "std           0.0\n",
      "min         365.0\n",
      "25%         365.0\n",
      "50%         365.0\n",
      "75%         365.0\n",
      "max         365.0\n",
      "Name: transcript, dtype: float64\n",
      "move count count    145249.000000\n",
      "mean         66.580899\n",
      "std           1.187799\n",
      "min          62.000000\n",
      "25%          66.000000\n",
      "50%          67.000000\n",
      "75%          67.000000\n",
      "max          72.000000\n",
      "Name: transcript, dtype: float64\n",
      "quarter percentile 66.0\n",
      "            WhiteElo\n",
      "count  116159.000000\n",
      "mean     1772.945557\n",
      "std       264.868858\n",
      "min       797.000000\n",
      "25%      1596.000000\n",
      "50%      1768.000000\n",
      "75%      1945.000000\n",
      "max      2874.000000\n",
      "    WhiteElo BlackElo Result  \\\n",
      "0       2339     2080    1-0   \n",
      "7       1739     1727    1-0   \n",
      "8       1724     1661    0-1   \n",
      "9       1903     1900    1-0   \n",
      "10      1916     1901    1-0   \n",
      "\n",
      "                                           transcript  \n",
      "0   ;1.d4 e6 2.c4 Nf6 3.Nc3 Bb4 4.Bg5 h6 5.Bxf6 Qx...  \n",
      "7   ;1.c4 e6 2.Nc3 c5 3.e3 Nf6 4.Nf3 Be7 5.Be2 O-O...  \n",
      "8   ;1.e4 d5 2.exd5 Qxd5 3.Nc3 Qd8 4.Nf3 Nf6 5.Bc4...  \n",
      "9   ;1.e4 c5 2.Nf3 d6 3.c3 Nf6 4.Bd3 Nc6 5.Bc2 e5 ...  \n",
      "10  ;1.e4 e5 2.Nf3 d5 3.d4 Bd6 4.dxe5 dxe4 5.exd6 ...  \n",
      "count    116159.000000\n",
      "mean         67.017906\n",
      "std           0.872849\n",
      "min          66.000000\n",
      "25%          66.000000\n",
      "50%          67.000000\n",
      "75%          67.000000\n",
      "max          72.000000\n",
      "Name: transcript, dtype: float64\n"
     ]
    }
   ],
   "source": [
    "len_df = df['transcript'].apply(lambda x: len(x))\n",
    "print(len_df.describe())\n",
    "\n",
    "game_length_in_chars = 365\n",
    "\n",
    "# Data setup. All games must have same length. 50% are >= 690 moves. I will discard all games less than 680, and truncate the rest to 680.\n",
    "filtered_df = df[df['transcript'].apply(lambda x: len(x) >= game_length_in_chars)].copy()\n",
    "filtered_df.loc[:, 'transcript'] = filtered_df['transcript'].apply(lambda x: x[:game_length_in_chars])\n",
    "\n",
    "len_df = filtered_df['transcript'].apply(lambda x: len(x))\n",
    "print(len_df.describe())\n",
    "\n",
    "move_count_df = filtered_df['transcript'].apply(lambda x: len(x.split()))\n",
    "move_count = move_count_df.describe()\n",
    "print(\"move count\", move_count_df.describe())\n",
    "quarter_percentile = move_count['25%']\n",
    "print(\"quarter percentile\", quarter_percentile)\n",
    "\n",
    "# Now I need to filter out games that are too short. I will discard all games less than 25th percentile  moves.\n",
    "filtered_df = filtered_df[filtered_df['transcript'].apply(lambda x: len(x.split()) >= quarter_percentile)]\n",
    "print(filtered_df.describe())\n",
    "print(filtered_df.head())\n",
    "\n",
    "filtered_df.to_csv(output_file, index=False)\n",
    "\n",
    "move_count_df = filtered_df['transcript'].apply(lambda x: len(x.split()))\n",
    "print(move_count_df.describe())"
   ]
  },
  {
   "cell_type": "code",
   "execution_count": 6,
   "metadata": {},
   "outputs": [
    {
     "name": "stdout",
     "output_type": "stream",
     "text": [
      "116159\n",
      "count    116159.000000\n",
      "mean       1772.945557\n",
      "std         264.868858\n",
      "min         797.000000\n",
      "25%        1596.000000\n",
      "50%        1768.000000\n",
      "75%        1945.000000\n",
      "max        2874.000000\n",
      "Name: WhiteElo, dtype: float64\n"
     ]
    }
   ],
   "source": [
    "print(len(filtered_df))\n",
    "print(filtered_df['WhiteElo'].describe())"
   ]
  },
  {
   "cell_type": "markdown",
   "metadata": {},
   "source": [
    "For the classification task, I wanted some Elo bins for the probe to classify. This somewhat arbitrarily creates 6 different Elo bins."
   ]
  },
  {
   "cell_type": "code",
   "execution_count": 7,
   "metadata": {},
   "outputs": [
    {
     "data": {
      "image/png": "[encoded data removed]",
      "text/plain": [
       "<Figure size 1000x800 with 2 Axes>"
      ]
     },
     "metadata": {},
     "output_type": "display_data"
    }
   ],
   "source": [
    "import pandas as pd\n",
    "import numpy as np\n",
    "import matplotlib.pyplot as plt\n",
    "\n",
    "np.random.seed(0)\n",
    "\n",
    "# Function to create binned columns and bin index columns\n",
    "def create_binned_columns(df, column_name):\n",
    "\n",
    "    # Ensure column is numeric and handle NaN values. Here, we choose to drop them, but you might fill them instead.\n",
    "    if df[column_name].dtype.kind not in 'biufc' or pd.isnull(df[column_name]).any():\n",
    "        df = df.dropna(subset=[column_name])\n",
    "        df[column_name] = pd.to_numeric(df[column_name], errors='coerce')\n",
    "\n",
    "    binned_column_name = f'{column_name}Binned'\n",
    "    bin_index_column_name = f'{column_name}BinIndex'\n",
    "    \n",
    "    # Create quantile-based bins\n",
    "    num_bins = 6\n",
    "    # Create quantile-based bins with range labels, dropping duplicates if necessary\n",
    "    df[binned_column_name], bins = pd.qcut(df[column_name], q=num_bins, retbins=True, duplicates='drop')\n",
    "\n",
    "    # Convert bin labels to strings and assign to the column\n",
    "    df[binned_column_name] = df[binned_column_name].apply(lambda x: f'({x.left}, {x.right}]')\n",
    "\n",
    "    # Create bin index column\n",
    "    df[bin_index_column_name] = pd.qcut(df[column_name], q=num_bins, labels=False, duplicates='drop')\n",
    "\n",
    "# Apply the function to both WhiteElo and BlackElo\n",
    "create_binned_columns(filtered_df, 'WhiteElo')\n",
    "create_binned_columns(filtered_df, 'BlackElo')\n",
    "\n",
    "filtered_df.to_csv(output_file, index=False)\n",
    "\n",
    "# Plotting\n",
    "fig, axes = plt.subplots(nrows=2, ncols=1, figsize=(10, 8))\n",
    "\n",
    "# Histogram for WhiteElo\n",
    "axes[0].hist(filtered_df['WhiteElo'], bins=30, color='blue', alpha=0.7)\n",
    "axes[0].set_title('WhiteElo Distribution')\n",
    "axes[0].set_xlabel('WhiteElo')\n",
    "axes[0].set_ylabel('Frequency')\n",
    "\n",
    "# Bar chart for WhiteEloBinned\n",
    "bin_counts = filtered_df['WhiteEloBinned'].value_counts()\n",
    "axes[1].bar(bin_counts.index.astype(str), bin_counts.values, color='green', alpha=0.7)\n",
    "axes[1].set_title('WhiteElo Binned Distribution')\n",
    "axes[1].set_xlabel('WhiteElo Bins')\n",
    "axes[1].set_ylabel('Count')\n",
    "plt.xticks(rotation=45)\n",
    "\n",
    "plt.tight_layout()\n",
    "plt.show()\n",
    "\n"
   ]
  },
  {
   "cell_type": "code",
   "execution_count": 8,
   "metadata": {},
   "outputs": [
    {
     "name": "stdout",
     "output_type": "stream",
     "text": [
      "WhiteEloBinned\n",
      "(1658.0, 1768.0]     19458\n",
      "(1516.0, 1658.0]     19402\n",
      "(796.999, 1516.0]    19385\n",
      "(2029.0, 2874.0]     19350\n",
      "(1768.0, 1880.0]     19336\n",
      "(1880.0, 2029.0]     19228\n",
      "Name: count, dtype: int64\n"
     ]
    }
   ],
   "source": [
    "print(filtered_df['WhiteEloBinned'].value_counts())"
   ]
  },
  {
   "cell_type": "code",
   "execution_count": 9,
   "metadata": {},
   "outputs": [
    {
     "name": "stdout",
     "output_type": "stream",
     "text": [
      "    WhiteElo BlackElo Result  \\\n",
      "0       2339     2080    1-0   \n",
      "7       1739     1727    1-0   \n",
      "8       1724     1661    0-1   \n",
      "9       1903     1900    1-0   \n",
      "10      1916     1901    1-0   \n",
      "\n",
      "                                           transcript    WhiteEloBinned  \\\n",
      "0   ;1.d4 e6 2.c4 Nf6 3.Nc3 Bb4 4.Bg5 h6 5.Bxf6 Qx...  (2029.0, 2874.0]   \n",
      "7   ;1.c4 e6 2.Nc3 c5 3.e3 Nf6 4.Nf3 Be7 5.Be2 O-O...  (1658.0, 1768.0]   \n",
      "8   ;1.e4 d5 2.exd5 Qxd5 3.Nc3 Qd8 4.Nf3 Nf6 5.Bc4...  (1658.0, 1768.0]   \n",
      "9   ;1.e4 c5 2.Nf3 d6 3.c3 Nf6 4.Bd3 Nc6 5.Bc2 e5 ...  (1880.0, 2029.0]   \n",
      "10  ;1.e4 e5 2.Nf3 d5 3.d4 Bd6 4.dxe5 dxe4 5.exd6 ...  (1880.0, 2029.0]   \n",
      "\n",
      "    WhiteEloBinIndex  \n",
      "0                  5  \n",
      "7                  2  \n",
      "8                  2  \n",
      "9                  4  \n",
      "10                 4  \n"
     ]
    }
   ],
   "source": [
    "print(filtered_df.head())"
   ]
  },
  {
   "cell_type": "code",
   "execution_count": 10,
   "metadata": {},
   "outputs": [],
   "source": [
    "# shuffle all rows of the dataset\n",
    "\n",
    "df = pd.read_csv(output_file)\n",
    "df = df.sample(frac=1, random_state=200).reset_index(drop=True)\n",
    "df.to_csv(output_file, index=False)"
   ]
  },
  {
   "cell_type": "code",
   "execution_count": 11,
   "metadata": {},
   "outputs": [
    {
     "name": "stdout",
     "output_type": "stream",
     "text": [
      "116159\n",
      "58080\n",
      "58079\n"
     ]
    }
   ],
   "source": [
    "import pandas as pd\n",
    "df = pd.read_csv(output_file)\n",
    "\n",
    "print(len(df))\n",
    "\n",
    "# Split df into a train and test split\n",
    "train = df.sample(frac=0.5, random_state=200)\n",
    "test = df.drop(train.index)\n",
    "\n",
    "print(len(train))\n",
    "print(len(test))\n",
    "\n",
    "# Save the train and test splits to csv\n",
    "train.to_csv(f'{DATA_DIR}{prefix}train.csv', index=False)\n",
    "test.to_csv(f'{DATA_DIR}{prefix}test.csv', index=False)"
   ]
  }
 ],
 "metadata": {
  "kernelspec": {
   "display_name": "othello",
   "language": "python",
   "name": "python3"
  },
  "language_info": {
   "codemirror_mode": {
    "name": "ipython",
    "version": 3
   },
   "file_extension": ".py",
   "mimetype": "text/x-python",
   "name": "python",
   "nbconvert_exporter": "python",
   "pygments_lexer": "ipython3",
   "version": "3.11.8"
  }
 },
 "nbformat": 4,
 "nbformat_minor": 2
}
